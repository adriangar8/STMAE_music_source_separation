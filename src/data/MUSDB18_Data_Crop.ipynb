{
 "cells": [
  {
   "cell_type": "markdown",
   "metadata": {},
   "source": [
    "# MUSDB18 Crop audio files \n",
    "| Name         | Surname    | ID        |\n",
    "|--------------|------------|-----------|\n",
    "| ABOUELAZM    | Youssef    | 10960436  |\n",
    "| BINGLING     | Wu         | 11105141  |\n",
    "| GARCIA       | Adrian     | 10975956  |\n",
    "| OUALI        | Ernest     | 10984484  |\n",
    "\n",
    "This notebook crops track objects in time for the desired duration (s) and stores them in the specified folder."
   ]
  },
  {
   "cell_type": "code",
   "execution_count": 1,
   "metadata": {},
   "outputs": [],
   "source": [
    "# System and core libraries\n",
    "import os\n",
    "import warnings\n",
    "warnings.filterwarnings('ignore')\n",
    "\n",
    "# Numerical and scientific computing\n",
    "import numpy as np\n",
    "import random\n",
    "\n",
    "# Audio processing\n",
    "import librosa\n",
    "\n",
    "from tqdm import tqdm\n",
    "import soundfile as sf\n",
    "\n",
    "# Visualization\n",
    "import matplotlib.pyplot as plt\n",
    "import seaborn as sns\n",
    "\n",
    "# Audio display\n",
    "from IPython.display import Audio, display\n",
    "\n",
    "# Music dataset handling\n",
    "import musdb  # Dataset loader for MUSDB18\n",
    "\n",
    "# Set visualization style\n",
    "plt.style.use('seaborn-v0_8')\n",
    "sns.set_palette(\"husl\")"
   ]
  },
  {
   "cell_type": "code",
   "execution_count": 2,
   "id": "106c43d9",
   "metadata": {},
   "outputs": [],
   "source": [
    "MUSDB_PATH = \"musdb18\"\n",
    "\n",
    "# Extracting the whole set\n",
    "mus = musdb.DB(root=MUSDB_PATH)\n",
    "\n",
    "mus_train_valid = musdb.DB(root=MUSDB_PATH, subsets=\"train\")\n",
    "mus_train       = musdb.DB(root=MUSDB_PATH, subsets=\"train\", split='train')\n",
    "mus_valid       = musdb.DB(root=MUSDB_PATH, subsets=\"train\", split='valid')\n",
    "mus_test        = musdb.DB(root=MUSDB_PATH, subsets=\"test\")"
   ]
  },
  {
   "cell_type": "code",
   "execution_count": 3,
   "id": "a81cd31a",
   "metadata": {},
   "outputs": [
    {
     "name": "stdout",
     "output_type": "stream",
     "text": [
      "Whole dataset loaded with 150 tracks.\n",
      "Training set loaded with 86 tracks.\n",
      "Validation set loaded with 14 tracks.\n",
      "Test set loaded with 50 tracks.\n",
      "First track: A Classic Education - NightOwl, Type: <class 'musdb.audio_classes.MultiTrack'>\n",
      "Type of elements in the first track: <class 'numpy.ndarray'>\n"
     ]
    }
   ],
   "source": [
    "print(f\"Whole dataset loaded with {len(mus)} tracks.\")\n",
    "print(f\"Training set loaded with {len(mus_train)} tracks.\")\n",
    "print(f\"Validation set loaded with {len(mus_valid)} tracks.\")\n",
    "print(f\"Test set loaded with {len(mus_test)} tracks.\")\n",
    "\n",
    "# Print the first track's name and type\n",
    "print(f\"First track: {mus[0].name}, Type: {type(mus[0])}\")\n",
    "# Print the type of the elelemnts within the mus[0]\n",
    "print(f\"Type of elements in the first track: {type(mus[0].audio)}\")\n"
   ]
  },
  {
   "cell_type": "code",
   "execution_count": 4,
   "id": "abd2d9e1",
   "metadata": {},
   "outputs": [],
   "source": [
    "OUTPUT_PATH = \"cropped_files_all\"\n",
    "TRAIN_PATH = os.path.join(OUTPUT_PATH, \"train\")\n",
    "VALID_PATH = os.path.join(OUTPUT_PATH, \"valid\")\n",
    "TEST_PATH = os.path.join(OUTPUT_PATH, \"test\")"
   ]
  },
  {
   "cell_type": "code",
   "execution_count": 5,
   "id": "47c15df2",
   "metadata": {},
   "outputs": [],
   "source": [
    "# Function to extract fixed-length excerpts from MUSDB tracks\n",
    "def extract_excerpts(mus_dataset, output_path, duration=5.0, offset=0.0, mono=True, num_excerpts=10, targets=[\"vocals\"]):\n",
    "    \"\"\"\n",
    "    Extract fixed-length excerpts from MUSDB18 dataset and save them to disk.\n",
    "    Processes 'mix' and specified target stems.\n",
    "\n",
    "    Args:\n",
    "        mus_dataset (musdb.DB): The MUSDB18 dataset object (train, test, or valid)\n",
    "        output_path (str): Base output directory\n",
    "        duration (float): Duration in seconds for each excerpt (default: 10.0)\n",
    "        offset (float): Starting offset in seconds (default: 0.0)\n",
    "        mono (bool): Whether to convert audio to mono (default: True)\n",
    "        num_excerpts (int): Number of excerpts to extract per track (default: 1)\n",
    "                            If more than 1, they will be taken at equal intervals, up to the max that can fit\n",
    "        targets (list): A list of strings specifying the names of the target stems\n",
    "                        to process in addition to the mix (e.g., [\"vocals\", \"bass\"])\n",
    "                        If empty, only the mix is processed.\n",
    "\n",
    "    Returns:\n",
    "        list: Information about extracted excerpts\n",
    "    \"\"\"\n",
    "\n",
    "    # Create output directories for mix and specified targets\n",
    "    output_mix = os.path.join(output_path, \"mix\")\n",
    "    os.makedirs(output_mix, exist_ok=True)\n",
    "\n",
    "    output_target_dirs = {}\n",
    "    for target_name in targets:\n",
    "        target_dir = os.path.join(output_path, target_name)\n",
    "        os.makedirs(target_dir, exist_ok=True)\n",
    "        output_target_dirs[target_name] = target_dir\n",
    "\n",
    "    excerpt_info = []\n",
    "\n",
    "    print(f\"Extracting excerpts of {duration}s from {len(mus_dataset)} tracks (processing mix and {targets})...\")\n",
    "\n",
    "    for track_idx, track in enumerate(tqdm(mus_dataset, desc=\"Processing tracks\", unit=\"track\")):\n",
    "        track_name = track.name\n",
    "        sample_rate = track.rate\n",
    "        total_samples = track.audio.shape[0]\n",
    "        total_duration = total_samples / sample_rate\n",
    "\n",
    "        available_duration = total_duration - offset\n",
    "\n",
    "        # Calculate the maximum number of excerpts that can fit\n",
    "        max_possible_excerpts = int((available_duration - duration) // duration + 1)\n",
    "        actual_num_excerpts = min(num_excerpts, max_possible_excerpts)\n",
    "\n",
    "        if actual_num_excerpts <= 0:\n",
    "            tqdm.write(f\"Track '{track_name}' is too short for even one {duration}s excerpt (offset: {offset}s).\")\n",
    "            continue\n",
    "\n",
    "        # Calculate interval between excerpt start positions\n",
    "        if actual_num_excerpts > 1:\n",
    "            interval = (available_duration - duration) / (actual_num_excerpts - 1)\n",
    "        else:\n",
    "            interval = 0\n",
    "\n",
    "        for excerpt_idx in range(actual_num_excerpts):\n",
    "            start_time = offset + (excerpt_idx * interval)\n",
    "            end_time = start_time + duration\n",
    "\n",
    "            start_sample = int(start_time * sample_rate)\n",
    "            end_sample = int(end_time * sample_rate)\n",
    "\n",
    "            excerpt_filename = f\"{track_name}_{start_time:.0f}_{end_time:.0f}\"\n",
    "\n",
    "            # Save mix\n",
    "            mix_audio = track.audio[start_sample:end_sample]\n",
    "            if mono and mix_audio.ndim > 1:\n",
    "                mix_audio = librosa.to_mono(mix_audio.T)\n",
    "            mix_path = os.path.join(output_mix, f\"{excerpt_filename}.wav\")\n",
    "            sf.write(mix_path, mix_audio, sample_rate)\n",
    "\n",
    "            # Save each target\n",
    "            for target_name in targets:\n",
    "                if target_name in track.sources:\n",
    "                    target_audio = track.sources[target_name].audio[start_sample:end_sample]\n",
    "                    if mono and target_audio.ndim > 1:\n",
    "                        target_audio = librosa.to_mono(target_audio.T)\n",
    "                    target_path = os.path.join(output_target_dirs[target_name], f\"{excerpt_filename}.wav\")\n",
    "                    sf.write(target_path, target_audio, sample_rate)\n",
    "                else:\n",
    "                    tqdm.write(f\"Warning: Target '{target_name}' not found for track '{track_name}'. Skipping {target_name}.\")\n",
    "\n",
    "            # Record info\n",
    "            excerpt_info.append({\n",
    "                'track_name': track_name,\n",
    "                'excerpt_idx': excerpt_idx + 1,\n",
    "                'start_time': start_time,\n",
    "                'duration': duration,\n",
    "                'filename': excerpt_filename,\n",
    "                'sample_rate': sample_rate\n",
    "            })\n",
    "\n",
    "    print(f\"Extraction complete. Saved {len(excerpt_info)} mix and target excerpts to {output_path}\")\n",
    "    return excerpt_info\n"
   ]
  },
  {
   "cell_type": "code",
   "execution_count": 7,
   "id": "b62c509e",
   "metadata": {},
   "outputs": [
    {
     "name": "stdout",
     "output_type": "stream",
     "text": [
      "Extracting excerpts of 5.0s from 86 tracks (processing mix and ['drums', 'bass', 'other', 'vocals'])...\n"
     ]
    },
    {
     "name": "stderr",
     "output_type": "stream",
     "text": [
      "Processing tracks: 100%|██████████| 86/86 [1:08:22<00:00, 47.70s/track]\n"
     ]
    },
    {
     "name": "stdout",
     "output_type": "stream",
     "text": [
      "Extraction complete. Saved 806 mix and target excerpts to cropped_files_all\\train\n",
      "Extracting excerpts of 5.0s from 14 tracks (processing mix and ['drums', 'bass', 'other', 'vocals'])...\n"
     ]
    },
    {
     "name": "stderr",
     "output_type": "stream",
     "text": [
      "Processing tracks: 100%|██████████| 14/14 [14:59<00:00, 64.28s/track]\n"
     ]
    },
    {
     "name": "stdout",
     "output_type": "stream",
     "text": [
      "Extraction complete. Saved 140 mix and target excerpts to cropped_files_all\\valid\n",
      "Extracting excerpts of 5.0s from 50 tracks (processing mix and ['drums', 'bass', 'other', 'vocals'])...\n"
     ]
    },
    {
     "name": "stderr",
     "output_type": "stream",
     "text": [
      "Processing tracks: 100%|██████████| 50/50 [49:44<00:00, 59.70s/track]"
     ]
    },
    {
     "name": "stdout",
     "output_type": "stream",
     "text": [
      "Extraction complete. Saved 500 mix and target excerpts to cropped_files_all\\test\n"
     ]
    },
    {
     "name": "stderr",
     "output_type": "stream",
     "text": [
      "\n"
     ]
    }
   ],
   "source": [
    "# extract training clips\n",
    "extract_1 = extract_info = extract_excerpts(mus_train, output_path=TRAIN_PATH,targets=['drums', 'bass', 'other', 'vocals'])\n",
    "# extract validation clips\n",
    "extract_2 = extract_info = extract_excerpts(mus_valid, output_path=VALID_PATH,targets=['drums', 'bass', 'other', 'vocals'])\n",
    "# extract test clips\n",
    "extract_3 = extract_info = extract_excerpts(mus_test, output_path=TEST_PATH,targets=['drums', 'bass', 'other', 'vocals'])"
   ]
  },
  {
   "cell_type": "code",
   "execution_count": null,
   "id": "879e92de",
   "metadata": {},
   "outputs": [],
   "source": []
  }
 ],
 "metadata": {
  "kernelspec": {
   "display_name": "Python 3",
   "language": "python",
   "name": "python3"
  },
  "language_info": {
   "codemirror_mode": {
    "name": "ipython",
    "version": 3
   },
   "file_extension": ".py",
   "mimetype": "text/x-python",
   "name": "python",
   "nbconvert_exporter": "python",
   "pygments_lexer": "ipython3",
   "version": "3.9.21"
  }
 },
 "nbformat": 4,
 "nbformat_minor": 5
}
